{
 "cells": [
  {
   "cell_type": "markdown",
   "metadata": {},
   "source": [
    "\n",
    "# 1.Расчет газонасыщенности пластовой нефти $G_0$\n",
    "## Газонасыщенность пластовой нефти  $G_0$, $\\frac{м^3}{м^3} = \\frac{1}{0.00036 ρ_{нд}– 0.2896}$\n"
   ]
  },
  {
   "cell_type": "code",
   "execution_count": 4,
   "metadata": {},
   "outputs": [
    {
     "name": "stdout",
     "output_type": "stream",
     "text": [
      "G0= 60 м^3/м^3\n"
     ]
    }
   ],
   "source": [
    "import math\n",
    "x = 850\n",
    "n = math.trunc(1 / (0.00036*x - 0.2896))\n",
    "print ('G0=', n, 'м^3/м^3') "
   ]
  },
  {
   "cell_type": "markdown",
   "metadata": {},
   "source": [
    "# 2.Расчет давления насыщения ${Р_{нас}}$\n",
    "## для интервала газонасыщенности $25 ≤ Gо ≤ 100$  $\\frac{м^3}{м^3}$\n",
    "## $ Р_{нас} = 5,5 + 0,093·(Gо – 25) $ МПа\n",
    "## $ Р_{нас} = 6 + 0,22·(Gо – 40) $,справедливое в интервале $ 40 ≤ Gо ≤ 80$  $\\frac{м^3}{м^3}$, полученное используя свойства нефтей месторождения Узень"
   ]
  },
  {
   "cell_type": "code",
   "execution_count": 5,
   "metadata": {},
   "outputs": [
    {
     "name": "stdout",
     "output_type": "stream",
     "text": [
      "Рнас= 10.4 Мпа\n"
     ]
    }
   ],
   "source": [
    "if (n>=25 and n<40) or (n>80 and n<=100) : p=5.5 + 0.093*(n - 25)\n",
    "elif n>=40 and n<=80: p= 6 + 0.22*(n - 40)\n",
    "else: print (\"Газонасыщенность не подходит\")\n",
    "print('Рнас=',p,\"Мпа\")"
   ]
  },
  {
   "cell_type": "markdown",
   "metadata": {},
   "source": [
    "# 3.Расчет объемного коэффициента нефти $b$\n",
    "## Используется следующая корреляционная зависимость $b = 1 + 0,003·Gо$"
   ]
  },
  {
   "cell_type": "code",
   "execution_count": 6,
   "metadata": {},
   "outputs": [
    {
     "name": "stdout",
     "output_type": "stream",
     "text": [
      "b= 1.18\n"
     ]
    }
   ],
   "source": [
    "b=1+0.003*n\n",
    "print('b=',b)"
   ]
  },
  {
   "cell_type": "markdown",
   "metadata": {},
   "source": [
    "# 4. Расчет плотности газонасыщенной нефти $ρ_{нг} $\n",
    "## расчет ведется по следующей корреляционной зависимости при $10 ≤ G_0 ≤ 100$ $\\frac{м3}{м3}$ $ρ_{нг}=\\frac{1090}{G_0^{0,085}}$"
   ]
  },
  {
   "cell_type": "code",
   "execution_count": 7,
   "metadata": {},
   "outputs": [
    {
     "name": "stdout",
     "output_type": "stream",
     "text": [
      "ρнг= 769 кг/м^3\n"
     ]
    }
   ],
   "source": [
    "r = math.trunc(1090/(pow(n,0.085)))\n",
    "print('ρнг=',r,'кг/м^3' )"
   ]
  },
  {
   "cell_type": "markdown",
   "metadata": {},
   "source": [
    "# 5.Оценка плотности выделяющегося из нефти газа $ρ_г$\n",
    "## Для этого можно использовать следующую аналитическую зависимость:\n",
    "## $ρ_г = \\frac{685 – 0,809·ρ_{нг}}{Gо}$"
   ]
  },
  {
   "cell_type": "code",
   "execution_count": 8,
   "metadata": {},
   "outputs": [
    {
     "name": "stdout",
     "output_type": "stream",
     "text": [
      "ρг= 1 кг/м^3\n"
     ]
    }
   ],
   "source": [
    "ro=math.trunc((685 - 0.809*r) / n)\n",
    "print('ρг=',ro,'кг/м^3' )"
   ]
  },
  {
   "cell_type": "markdown",
   "metadata": {},
   "source": [
    "# 6.Оценка содержания в выделившемся газе азота $y_а$\n",
    "## $y_а = 9,9 – 8,167·ρ_г$"
   ]
  },
  {
   "cell_type": "code",
   "execution_count": 9,
   "metadata": {},
   "outputs": [
    {
     "name": "stdout",
     "output_type": "stream",
     "text": [
      "ya= 1 %\n"
     ]
    }
   ],
   "source": [
    "ya=math.trunc(9.9-8.167*ro)\n",
    "print('ya=',ya,'%' )"
   ]
  },
  {
   "cell_type": "markdown",
   "metadata": {},
   "source": [
    "# 7.Оценка содержания в выделившемся газе метана $y_м$\n",
    "## $y_м = 68,07·(1,977 - ρ_г)$   при  $2 ≤ y_м < 98,5$% $, 0 ≤ y_а < 4$ %"
   ]
  },
  {
   "cell_type": "code",
   "execution_count": 10,
   "metadata": {},
   "outputs": [
    {
     "name": "stdout",
     "output_type": "stream",
     "text": [
      "ym= 66 %\n"
     ]
    }
   ],
   "source": [
    "if ya>=0 and ya<=4: ym=math.trunc(68.07*(1.977-ro))\n",
    "if ym<2 and ym>=98.5: print('Ошибка!')\n",
    "print('ym=',ym,'%' )"
   ]
  },
  {
   "cell_type": "markdown",
   "metadata": {},
   "source": [
    "# Методология расчета ρнд, используя величины ρнд для разных сроков\n",
    "## $ρ_{нднач}$ на начало разработки = 840 $\\frac{кг}{м^3}$\n",
    "## $ρ_{ндтек}$ на текущую дату =850 $\\frac{кг}{м^3}$\n",
    "## $P_{наснач}$, начальное давление насыщения = 12 МПа\n",
    "## $P_{нас}$, давление насыщения года, плотность в котором нужно рассчитать = 10 МПа\n",
    "## $P_{настек}$, давление насыщения на текущую дату = 8 МПа"
   ]
  },
  {
   "cell_type": "code",
   "execution_count": 8,
   "metadata": {
    "collapsed": true
   },
   "outputs": [],
   "source": [
    "ro1 =840\n",
    "ro3 = 850\n",
    "P1 =12\n",
    "P2 =10\n",
    "P3 =8\n"
   ]
  },
  {
   "cell_type": "markdown",
   "metadata": {},
   "source": [
    "## Сначала рассчитывается разность плотностей\n"
   ]
  },
  {
   "cell_type": "code",
   "execution_count": 13,
   "metadata": {},
   "outputs": [
    {
     "name": "stdout",
     "output_type": "stream",
     "text": [
      "∆ρнд= 10 кг/м^3\n"
     ]
    }
   ],
   "source": [
    "dro=ro3-ro1\n",
    "print('∆ρнд=',dro,'кг/м^3' )"
   ]
  },
  {
   "cell_type": "markdown",
   "metadata": {},
   "source": [
    "## А также разность давлений насыщения"
   ]
  },
  {
   "cell_type": "code",
   "execution_count": 9,
   "metadata": {},
   "outputs": [
    {
     "name": "stdout",
     "output_type": "stream",
     "text": [
      "∆P= 4 МПа\n"
     ]
    }
   ],
   "source": [
    "dP=P1-P3\n",
    "print('∆P=',dP,'МПа' )"
   ]
  },
  {
   "cell_type": "markdown",
   "metadata": {},
   "source": [
    "## Далее находим $\\frac{∆ρ_{нд}}{∆Р_{нас}}$\n"
   ]
  },
  {
   "cell_type": "code",
   "execution_count": 15,
   "metadata": {},
   "outputs": [
    {
     "name": "stdout",
     "output_type": "stream",
     "text": [
      "∆ρнд/∆Рнас= 2.5 кг/(м^3*МПа)\n"
     ]
    }
   ],
   "source": [
    "print('∆ρнд/∆Рнас=',dro/dP,'кг/(м^3*МПа)' )"
   ]
  },
  {
   "cell_type": "markdown",
   "metadata": {},
   "source": [
    "## Рассчитываем $∆Р'_{нас}=Р_{наснач}-Р_{нас}$"
   ]
  },
  {
   "cell_type": "code",
   "execution_count": 10,
   "metadata": {},
   "outputs": [
    {
     "name": "stdout",
     "output_type": "stream",
     "text": [
      "∆P*нас= 2 МПа\n"
     ]
    }
   ],
   "source": [
    "print('∆P*нас=',P1-P2,'МПа' )"
   ]
  },
  {
   "cell_type": "markdown",
   "metadata": {},
   "source": [
    "## а также $∆ρ'_{нд}=\\frac{∆ρ_{нд}}{∆Р_{нас}}·∆Р'_{нас}$\n"
   ]
  },
  {
   "cell_type": "code",
   "execution_count": 17,
   "metadata": {},
   "outputs": [
    {
     "name": "stdout",
     "output_type": "stream",
     "text": [
      "∆ρ*нд= 5.0 кг/м^3\n"
     ]
    }
   ],
   "source": [
    "print('∆ρ*нд=',dro/dP*(P1-P2),'кг/м^3' )"
   ]
  },
  {
   "cell_type": "markdown",
   "metadata": {},
   "source": [
    "## Находим $ρ_{нд}=ρ_{нднач} + ∆ρ'_{нд}$"
   ]
  },
  {
   "cell_type": "code",
   "execution_count": 18,
   "metadata": {
    "scrolled": true
   },
   "outputs": [
    {
     "name": "stdout",
     "output_type": "stream",
     "text": [
      "ρнд= 845.0 кг/м^3\n"
     ]
    }
   ],
   "source": [
    "print('ρнд=',dro/dP*(P1-P2)+ro1,'кг/м^3' )"
   ]
  },
  {
   "cell_type": "code",
   "execution_count": null,
   "metadata": {
    "collapsed": true
   },
   "outputs": [],
   "source": []
  }
 ],
 "metadata": {
  "kernelspec": {
   "display_name": "Python 3",
   "language": "python",
   "name": "python3"
  },
  "language_info": {
   "codemirror_mode": {
    "name": "ipython",
    "version": 3
   },
   "file_extension": ".py",
   "mimetype": "text/x-python",
   "name": "python",
   "nbconvert_exporter": "python",
   "pygments_lexer": "ipython3",
   "version": "3.6.1"
  }
 },
 "nbformat": 4,
 "nbformat_minor": 2
}
